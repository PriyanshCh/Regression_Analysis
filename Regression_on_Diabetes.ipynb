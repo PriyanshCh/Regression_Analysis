{
  "nbformat": 4,
  "nbformat_minor": 0,
  "metadata": {
    "colab": {
      "provenance": []
    },
    "kernelspec": {
      "name": "python3",
      "display_name": "Python 3"
    },
    "language_info": {
      "name": "python"
    }
  },
  "cells": [
    {
      "cell_type": "code",
      "execution_count": 1,
      "metadata": {
        "colab": {
          "base_uri": "https://localhost:8080/"
        },
        "id": "yi1-YGn6WKfK",
        "outputId": "e8183718-97c8-4b32-afab-e3eb094a9909"
      },
      "outputs": [
        {
          "output_type": "stream",
          "name": "stdout",
          "text": [
            "Linear Regression RMSE: 53.853445836765935\n",
            "Polynomial Regression RMSE: 55.642854506351426\n",
            "Lasso Regression RMSE: 53.70869844573793\n",
            "Ridge Regression RMSE: 53.84286912542571\n",
            "Random Forest Regression RMSE: 54.332408273184846\n"
          ]
        }
      ],
      "source": [
        "from sklearn.datasets import load_diabetes\n",
        "from sklearn.model_selection import train_test_split\n",
        "from sklearn.linear_model import LinearRegression, Lasso, Ridge\n",
        "from sklearn.preprocessing import PolynomialFeatures, StandardScaler\n",
        "from sklearn.ensemble import RandomForestRegressor\n",
        "from sklearn.metrics import mean_squared_error\n",
        "\n",
        "# Step 1: Load the Diabetes dataset\n",
        "data = load_diabetes()\n",
        "X = data.data\n",
        "y = data.target\n",
        "\n",
        "# Step 3: Split the dataset into features (X) and target variable (y)\n",
        "X_train, X_test, y_train, y_test = train_test_split(X, y, test_size=0.2, random_state=42)\n",
        "\n",
        "# Step 4: Standardize the features\n",
        "scaler = StandardScaler()\n",
        "X_train_scaled = scaler.fit_transform(X_train)\n",
        "X_test_scaled = scaler.transform(X_test)\n",
        "\n",
        "# Step 5: Apply Linear Regression\n",
        "linear_reg = LinearRegression()\n",
        "linear_reg.fit(X_train_scaled, y_train)\n",
        "linear_reg_pred = linear_reg.predict(X_test_scaled)\n",
        "linear_reg_rmse = mean_squared_error(y_test, linear_reg_pred, squared=False)\n",
        "print(\"Linear Regression RMSE:\", linear_reg_rmse)\n",
        "\n",
        "# Step 6: Apply Polynomial Regression\n",
        "poly_features = PolynomialFeatures(degree=2)\n",
        "X_train_poly = poly_features.fit_transform(X_train_scaled)\n",
        "X_test_poly = poly_features.transform(X_test_scaled)\n",
        "poly_reg = LinearRegression()\n",
        "poly_reg.fit(X_train_poly, y_train)\n",
        "poly_reg_pred = poly_reg.predict(X_test_poly)\n",
        "poly_reg_rmse = mean_squared_error(y_test, poly_reg_pred, squared=False)\n",
        "print(\"Polynomial Regression RMSE:\", poly_reg_rmse)\n",
        "\n",
        "# Step 7: Apply Lasso Regression\n",
        "lasso_reg = Lasso(alpha=0.1)\n",
        "lasso_reg.fit(X_train_scaled, y_train)\n",
        "lasso_reg_pred = lasso_reg.predict(X_test_scaled)\n",
        "lasso_reg_rmse = mean_squared_error(y_test, lasso_reg_pred, squared=False)\n",
        "print(\"Lasso Regression RMSE:\", lasso_reg_rmse)\n",
        "\n",
        "# Step 8: Apply Ridge Regression\n",
        "ridge_reg = Ridge(alpha=0.1)\n",
        "ridge_reg.fit(X_train_scaled, y_train)\n",
        "ridge_reg_pred = ridge_reg.predict(X_test_scaled)\n",
        "ridge_reg_rmse = mean_squared_error(y_test, ridge_reg_pred, squared=False)\n",
        "print(\"Ridge Regression RMSE:\", ridge_reg_rmse)\n",
        "\n",
        "# Step 9: Apply Random Forest Regression\n",
        "rf_reg = RandomForestRegressor(n_estimators=100, random_state=42)\n",
        "rf_reg.fit(X_train, y_train)\n",
        "rf_reg_pred = rf_reg.predict(X_test)\n",
        "rf_reg_rmse = mean_squared_error(y_test, rf_reg_pred, squared=False)\n",
        "print(\"Random Forest Regression RMSE:\", rf_reg_rmse)\n"
      ]
    }
  ]
}
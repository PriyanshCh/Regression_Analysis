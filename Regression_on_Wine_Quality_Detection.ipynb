{
  "nbformat": 4,
  "nbformat_minor": 0,
  "metadata": {
    "colab": {
      "provenance": []
    },
    "kernelspec": {
      "name": "python3",
      "display_name": "Python 3"
    },
    "language_info": {
      "name": "python"
    }
  },
  "cells": [
    {
      "cell_type": "code",
      "source": [
        "import pandas as pd\n",
        "from sklearn.model_selection import train_test_split\n",
        "from sklearn.linear_model import LinearRegression, Lasso, Ridge\n",
        "from sklearn.preprocessing import PolynomialFeatures, StandardScaler\n",
        "from sklearn.ensemble import RandomForestRegressor\n",
        "from sklearn.metrics import mean_squared_error\n",
        "from sklearn.linear_model import LogisticRegression\n",
        "from sklearn.svm import SVR\n",
        "from sklearn.preprocessing import StandardScaler\n",
        "from sklearn.metrics import accuracy_score, mean_squared_error\n",
        "\n",
        "# Step 1: Load the Wine Quality dataset\n",
        "data = pd.read_csv('/content/winequality-red.csv')\n",
        "\n",
        "# Step 3: Split the dataset into features (X) and target variable (y)\n",
        "X = data.drop('quality', axis=1)\n",
        "y = data['quality']\n",
        "\n",
        "# Step 4: Split the dataset into training and testing sets\n",
        "X_train, X_test, y_train, y_test = train_test_split(X, y, test_size=0.2, random_state=42)\n",
        "\n",
        "# Step 5: Standardize the features (not necessary for decision tree-based models)\n",
        "scaler = StandardScaler()\n",
        "X_train_scaled = scaler.fit_transform(X_train)\n",
        "X_test_scaled = scaler.transform(X_test)\n",
        "\n",
        "\n",
        "# Step 6: Apply Linear Regression\n",
        "linear_reg = LinearRegression()\n",
        "linear_reg.fit(X_train_scaled, y_train)\n",
        "linear_reg_pred = linear_reg.predict(X_test_scaled)\n",
        "linear_reg_rmse = mean_squared_error(y_test, linear_reg_pred, squared=False)\n",
        "print(\"Linear Regression RMSE:\", linear_reg_rmse)\n",
        "\n",
        "# Step 7: Apply Polynomial Regression\n",
        "poly_features = PolynomialFeatures(degree=2)\n",
        "X_train_poly = poly_features.fit_transform(X_train_scaled)\n",
        "X_test_poly = poly_features.transform(X_test_scaled)\n",
        "poly_reg = LinearRegression()\n",
        "poly_reg.fit(X_train_poly, y_train)\n",
        "poly_reg_pred = poly_reg.predict(X_test_poly)\n",
        "poly_reg_rmse = mean_squared_error(y_test, poly_reg_pred, squared=False)\n",
        "print(\"Polynomial Regression RMSE:\", poly_reg_rmse)\n",
        "\n",
        "# Step 8: Apply Lasso Regression\n",
        "lasso_reg = Lasso(alpha=0.1)\n",
        "lasso_reg.fit(X_train_scaled, y_train)\n",
        "lasso_reg_pred = lasso_reg.predict(X_test_scaled)\n",
        "lasso_reg_rmse = mean_squared_error(y_test, lasso_reg_pred, squared=False)\n",
        "print(\"Lasso Regression RMSE:\", lasso_reg_rmse)\n",
        "\n",
        "\n",
        "# Step 9: Apply Ridge Regression\n",
        "ridge_reg = Ridge(alpha=0.1)\n",
        "ridge_reg.fit(X_train_scaled, y_train)\n",
        "ridge_reg_pred = ridge_reg.predict(X_test_scaled)\n",
        "ridge_reg_rmse = mean_squared_error(y_test, ridge_reg_pred, squared=False)\n",
        "print(\"Ridge Regression RMSE:\", ridge_reg_rmse)\n",
        "\n",
        "\n",
        "# Step 10: Apply Random Forest Regression\n",
        "rf_reg = RandomForestRegressor(n_estimators=100, random_state=42)\n",
        "rf_reg.fit(X_train, y_train)\n",
        "rf_reg_pred = rf_reg.predict(X_test)\n",
        "rf_reg_rmse = mean_squared_error(y_test, rf_reg_pred, squared=False)\n",
        "print(\"Random Forest Regression RMSE:\", rf_reg_rmse)\n",
        "\n",
        "# Step 6: Apply Logistic Regression\n",
        "logistic_reg = LogisticRegression()\n",
        "logistic_reg.fit(X_train_scaled, y_train)\n",
        "logistic_reg_pred = logistic_reg.predict(X_test_scaled)\n",
        "logistic_reg_accuracy = accuracy_score(y_test, logistic_reg_pred)\n",
        "print(\"Logistic Regression Accuracy:\", logistic_reg_accuracy)\n",
        "\n",
        "\n",
        "# Step 7: Apply Support Vector Regression (SVR)\n",
        "svr_reg = SVR(kernel='rbf')\n",
        "svr_reg.fit(X_train_scaled, y_train)\n",
        "svr_reg_pred = svr_reg.predict(X_test_scaled)\n",
        "svr_reg_rmse = mean_squared_error(y_test, svr_reg_pred, squared=False)\n",
        "print(\"Support Vector Regression RMSE:\", svr_reg_rmse)"
      ],
      "metadata": {
        "colab": {
          "base_uri": "https://localhost:8080/"
        },
        "id": "0E31AcSwXIqe",
        "outputId": "39d56f01-880d-4611-f33f-539d67d2ba9e"
      },
      "execution_count": 1,
      "outputs": [
        {
          "output_type": "stream",
          "name": "stdout",
          "text": [
            "Linear Regression RMSE: 0.624519930798013\n",
            "Polynomial Regression RMSE: 0.6179453872774694\n",
            "Lasso Regression RMSE: 0.6627404581784582\n",
            "Ridge Regression RMSE: 0.6245209399330237\n",
            "Random Forest Regression RMSE: 0.5488516420673258\n",
            "Logistic Regression Accuracy: 0.575\n",
            "Support Vector Regression RMSE: 0.5927681962816932\n"
          ]
        },
        {
          "output_type": "stream",
          "name": "stderr",
          "text": [
            "/usr/local/lib/python3.10/dist-packages/sklearn/linear_model/_logistic.py:458: ConvergenceWarning: lbfgs failed to converge (status=1):\n",
            "STOP: TOTAL NO. of ITERATIONS REACHED LIMIT.\n",
            "\n",
            "Increase the number of iterations (max_iter) or scale the data as shown in:\n",
            "    https://scikit-learn.org/stable/modules/preprocessing.html\n",
            "Please also refer to the documentation for alternative solver options:\n",
            "    https://scikit-learn.org/stable/modules/linear_model.html#logistic-regression\n",
            "  n_iter_i = _check_optimize_result(\n"
          ]
        }
      ]
    }
  ]
}